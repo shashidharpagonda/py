{
  "nbformat": 4,
  "nbformat_minor": 0,
  "metadata": {
    "colab": {
      "provenance": [],
      "authorship_tag": "ABX9TyP7U6PZ80P4pzohIflpAr2k",
      "include_colab_link": true
    },
    "kernelspec": {
      "name": "python3",
      "display_name": "Python 3"
    },
    "language_info": {
      "name": "python"
    }
  },
  "cells": [
    {
      "cell_type": "markdown",
      "metadata": {
        "id": "view-in-github",
        "colab_type": "text"
      },
      "source": [
        "<a href=\"https://colab.research.google.com/github/shashidharpagonda/py/blob/master/python_01_basics.ipynb\" target=\"_parent\"><img src=\"https://colab.research.google.com/assets/colab-badge.svg\" alt=\"Open In Colab\"/></a>"
      ]
    },
    {
      "cell_type": "code",
      "execution_count": null,
      "metadata": {
        "id": "mX88g9ay_9wp"
      },
      "outputs": [],
      "source": []
    },
    {
      "cell_type": "markdown",
      "source": [
        "Char to Ascii and Ascii to char.\n",
        "- chr(97)  => 'a'\n",
        "- ord('a') => 97"
      ],
      "metadata": {
        "id": "K0mA8r4eAluW"
      }
    },
    {
      "cell_type": "code",
      "source": [
        "print ('chr(97) => ',chr(97))\n",
        "print ('ord(a) => ',ord('a'))"
      ],
      "metadata": {
        "id": "hxb-Cc3cAu0O",
        "outputId": "4300d842-1e1b-4752-9fc6-37a060c918b6",
        "colab": {
          "base_uri": "https://localhost:8080/"
        }
      },
      "execution_count": 2,
      "outputs": [
        {
          "output_type": "stream",
          "name": "stdout",
          "text": [
            "chr(97) =>  a\n",
            "ord(a) =>  97\n"
          ]
        }
      ]
    },
    {
      "cell_type": "code",
      "source": [
        "help(str.find)"
      ],
      "metadata": {
        "id": "G1yVLDDrBQro",
        "outputId": "b56b3e9d-44f9-4c06-bc2e-ad4c575ce67f",
        "colab": {
          "base_uri": "https://localhost:8080/"
        }
      },
      "execution_count": 3,
      "outputs": [
        {
          "output_type": "stream",
          "name": "stdout",
          "text": [
            "Help on method_descriptor:\n",
            "\n",
            "find(...)\n",
            "    S.find(sub[, start[, end]]) -> int\n",
            "    \n",
            "    Return the lowest index in S where substring sub is found,\n",
            "    such that sub is contained within S[start:end].  Optional\n",
            "    arguments start and end are interpreted as in slice notation.\n",
            "    \n",
            "    Return -1 on failure.\n",
            "\n"
          ]
        }
      ]
    },
    {
      "cell_type": "code",
      "source": [],
      "metadata": {
        "id": "1nK-91H1CVC_"
      },
      "execution_count": null,
      "outputs": []
    }
  ]
}